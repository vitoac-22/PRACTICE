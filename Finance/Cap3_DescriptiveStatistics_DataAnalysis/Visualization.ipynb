{
 "cells": [
  {
   "cell_type": "markdown",
   "id": "340d8cb7",
   "metadata": {},
   "source": [
    "# Estadística descriptica y el análisis de datos\n",
    "\n",
    "Utilizaremos el Índice de Precios al Consumidos *(IPC)* ~ este mide los precios que pagan mensualmente los consumidores urbanos por una selección de productos y servicios. [Cada mes se publica una nueva observación, formando una serie de tiempo continua].\n",
    "\n",
    "> La tasa de inflación entre dos periodos de tiempo cualquiera se mide por los cambios porcentuales en el índice de precios.\n",
    "\n",
    "> Por ejemplo, si el precio del pan el año pasado era de $1.00 y el precio hoy es de $1.01, entonces la inflación es del 1.00%. El IPC se publica típicamente de manera interanual, lo que significa que se informa como la diferencia entre la observación mensual actual y la observación de hace 12 meses."
   ]
  },
  {
   "cell_type": "code",
   "execution_count": null,
   "id": "12c1da99",
   "metadata": {},
   "outputs": [
    {
     "name": "stdout",
     "output_type": "stream",
     "text": [
      "Número de valores \"nan\" en el dataframe: 0\n"
     ]
    },
    {
     "data": {
      "text/html": [
       "<div>\n",
       "<style scoped>\n",
       "    .dataframe tbody tr th:only-of-type {\n",
       "        vertical-align: middle;\n",
       "    }\n",
       "\n",
       "    .dataframe tbody tr th {\n",
       "        vertical-align: top;\n",
       "    }\n",
       "\n",
       "    .dataframe thead th {\n",
       "        text-align: right;\n",
       "    }\n",
       "</style>\n",
       "<table border=\"1\" class=\"dataframe\">\n",
       "  <thead>\n",
       "    <tr style=\"text-align: right;\">\n",
       "      <th></th>\n",
       "      <th>CPIAUCSL</th>\n",
       "    </tr>\n",
       "    <tr>\n",
       "      <th>DATE</th>\n",
       "      <th></th>\n",
       "    </tr>\n",
       "  </thead>\n",
       "  <tbody>\n",
       "    <tr>\n",
       "      <th>2022-09-01</th>\n",
       "      <td>8.205752</td>\n",
       "    </tr>\n",
       "    <tr>\n",
       "      <th>2022-10-01</th>\n",
       "      <td>7.757261</td>\n",
       "    </tr>\n",
       "    <tr>\n",
       "      <th>2022-11-01</th>\n",
       "      <td>7.131380</td>\n",
       "    </tr>\n",
       "    <tr>\n",
       "      <th>2022-12-01</th>\n",
       "      <td>6.410832</td>\n",
       "    </tr>\n",
       "    <tr>\n",
       "      <th>2023-01-01</th>\n",
       "      <td>6.340296</td>\n",
       "    </tr>\n",
       "  </tbody>\n",
       "</table>\n",
       "</div>"
      ],
      "text/plain": [
       "            CPIAUCSL\n",
       "DATE                \n",
       "2022-09-01  8.205752\n",
       "2022-10-01  7.757261\n",
       "2022-11-01  7.131380\n",
       "2022-12-01  6.410832\n",
       "2023-01-01  6.340296"
      ]
     },
     "execution_count": 3,
     "metadata": {},
     "output_type": "execute_result"
    }
   ],
   "source": [
    "# Importemos los datos del CPI\n",
    "import pandas_datareader as pdr\n",
    "\n",
    "# Selección de periodo\n",
    "start_date = '1950-01-01'\n",
    "end_date = '2023-01-23'\n",
    "\n",
    "# Creación de un datafreame y descargando su información\n",
    "cpi = pdr.DataReader('CPIAUCSL', 'fred', start_date, end_date)\n",
    "\n",
    "# Obtención de los 5 últimos registros\n",
    "cpi.tail()\n",
    "\n",
    "# Comprobemos cuántos valores 'nan' tiene el dataframe\n",
    "count_nan = cpi['CPIAUCSL'].isnull().sum()\n",
    "# Imprimamos el resultado\n",
    "print('Número de valores \"nan\" en el dataframe: ' + str(count_nan))\n",
    "\n",
    "# Transformando CPI por año\n",
    "cpi = cpi.pct_change(periods= 12, axis = 0) * 100\n",
    "# Borramos los valores 'nan' de los registros\n",
    "cpi = cpi.dropna()"
   ]
  },
  {
   "cell_type": "markdown",
   "id": "b472bc77",
   "metadata": {},
   "source": [
    "Utilizamos el cambio proporcional entre el valor actual y el de hace 12 periodos (normalmente, si el índice es mensual).\n",
    "\n",
    "YoY = Year-over-Year (término en inglés equivalente a interanual)."
   ]
  },
  {
   "cell_type": "code",
   "execution_count": 9,
   "id": "fa7af3ef",
   "metadata": {},
   "outputs": [
    {
     "name": "stdout",
     "output_type": "stream",
     "text": [
      "La media de los datos: 2.4945282480797544 %\n"
     ]
    }
   ],
   "source": [
    "# Calculemos la media del CPI de los últomos 20 años\n",
    "cpi_latest = cpi.iloc[-240:]\n",
    "mean = cpi_latest['CPIAUCSL'].mean()\n",
    "\n",
    "print(\"La media de los datos: \" + str(mean), '%')"
   ]
  }
 ],
 "metadata": {
  "kernelspec": {
   "display_name": "PRACTICE",
   "language": "python",
   "name": "python3"
  },
  "language_info": {
   "codemirror_mode": {
    "name": "ipython",
    "version": 3
   },
   "file_extension": ".py",
   "mimetype": "text/x-python",
   "name": "python",
   "nbconvert_exporter": "python",
   "pygments_lexer": "ipython3",
   "version": "3.11.9"
  }
 },
 "nbformat": 4,
 "nbformat_minor": 5
}
