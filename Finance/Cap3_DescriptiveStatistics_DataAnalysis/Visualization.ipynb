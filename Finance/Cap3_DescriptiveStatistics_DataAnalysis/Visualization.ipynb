{
 "cells": [
  {
   "cell_type": "markdown",
   "id": "340d8cb7",
   "metadata": {},
   "source": [
    "# Estadística descriptica y el análisis de datos\n",
    "\n",
    "Utilizaremos el Índice de Precios al Consumidos *(IPC)* ~ este mide los precios que pagan mensualmente los consumidores urbanos por una selección de productos y servicios. [Cada mes se publica una nueva observación, formando una serie de tiempo continua].\n",
    "\n",
    "> La tasa de inflación entre dos periodos de tiempo cualquiera se mide por los cambios porcentuales en el índice de precios. Por ejemplo, si el precio del pan el año pasado era de $1.00 y el precio hoy es de $1.01, entonces la inflación es del 1.00%. El IPC se publica típicamente de manera interanual, lo que significa que se informa como la diferencia entre la observación mensual actual y la observación de hace 12 meses."
   ]
  },
  {
   "cell_type": "code",
   "execution_count": null,
   "id": "12c1da99",
   "metadata": {
    "vscode": {
     "languageId": "plaintext"
    }
   },
   "outputs": [],
   "source": [
    "# "
   ]
  }
 ],
 "metadata": {
  "language_info": {
   "name": "python"
  }
 },
 "nbformat": 4,
 "nbformat_minor": 5
}
